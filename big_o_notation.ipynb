{
 "cells": [
  {
   "cell_type": "code",
   "execution_count": 1,
   "metadata": {
    "collapsed": true
   },
   "outputs": [],
   "source": [
    "import numpy as np\n",
    "import pandas as pd\n",
    "import matplotlib.pyplot as plt\n",
    "import seaborn as sns\n"
   ]
  },
  {
   "cell_type": "code",
   "execution_count": null,
   "outputs": [],
   "source": [
    "# Make a new Jupyter notebook named big_o_notation.ipynb\n",
    "\n",
    "# Title your chart \"Big O Notation\"\n",
    "plt.title('big O notation')\n",
    "\n",
    "# Label your x axis \"Elements\"\n",
    "plt.xlabel('elements')\n",
    "\n",
    "# Label your y axis \"Operations\"\n",
    "plt.ylabel('operations')\n",
    "\n",
    "# Label your curves or make a legend for the curves\n",
    "\n",
    "plt.legend(loc = 'curves')\n",
    "\n",
    "#    Use LaTex notation where possible\n",
    "\n",
    "\n",
    "# Curves to graph\n",
    "\n",
    "plt."
   ],
   "metadata": {
    "collapsed": false
   }
  }
 ],
 "metadata": {
  "kernelspec": {
   "display_name": "Python 3",
   "language": "python",
   "name": "python3"
  },
  "language_info": {
   "codemirror_mode": {
    "name": "ipython",
    "version": 2
   },
   "file_extension": ".py",
   "mimetype": "text/x-python",
   "name": "python",
   "nbconvert_exporter": "python",
   "pygments_lexer": "ipython2",
   "version": "2.7.6"
  }
 },
 "nbformat": 4,
 "nbformat_minor": 0
}
