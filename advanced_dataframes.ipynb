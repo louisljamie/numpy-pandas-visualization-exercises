{
 "cells": [
  {
   "cell_type": "code",
   "execution_count": 12,
   "metadata": {
    "collapsed": true
   },
   "outputs": [
    {
     "ename": "ImportError",
     "evalue": "cannot import name 'codeup_db' from 'env' (/Users/aleph/codeup-data-science/numpy-pandas-visualization-exercises/env.py)",
     "output_type": "error",
     "traceback": [
      "\u001B[0;31m---------------------------------------------------------------------------\u001B[0m",
      "\u001B[0;31mImportError\u001B[0m                               Traceback (most recent call last)",
      "\u001B[0;32m/var/folders/vs/c0nlrqgj7w31_21lr5lnfrf40000gn/T/ipykernel_67959/2815514931.py\u001B[0m in \u001B[0;36m<module>\u001B[0;34m\u001B[0m\n\u001B[0;32m----> 1\u001B[0;31m \u001B[0;32mfrom\u001B[0m \u001B[0menv\u001B[0m \u001B[0;32mimport\u001B[0m \u001B[0mcodeup_db\u001B[0m\u001B[0;34m\u001B[0m\u001B[0;34m\u001B[0m\u001B[0m\n\u001B[0m",
      "\u001B[0;31mImportError\u001B[0m: cannot import name 'codeup_db' from 'env' (/Users/aleph/codeup-data-science/numpy-pandas-visualization-exercises/env.py)"
     ]
    }
   ],
   "source": [
    "from env import codeup_db"
   ]
  },
  {
   "cell_type": "code",
   "execution_count": 6,
   "outputs": [],
   "source": [
    "from env import get_db_codeup"
   ],
   "metadata": {
    "collapsed": false
   }
  },
  {
   "cell_type": "code",
   "execution_count": 8,
   "outputs": [],
   "source": [
    "import numpy as np\n",
    "import pandas as pd\n",
    "import matplotlib.pyplot as plt\n",
    "import matplotlib.ticker as ticker\n"
   ],
   "metadata": {
    "collapsed": false
   }
  },
  {
   "cell_type": "code",
   "execution_count": 11,
   "outputs": [],
   "source": [
    "import mysql.connector"
   ],
   "metadata": {
    "collapsed": false
   }
  },
  {
   "cell_type": "code",
   "execution_count": 15,
   "outputs": [
    {
     "ename": "TypeError",
     "evalue": "read_sql() missing 1 required positional argument: 'con'",
     "output_type": "error",
     "traceback": [
      "\u001B[0;31m---------------------------------------------------------------------------\u001B[0m",
      "\u001B[0;31mTypeError\u001B[0m                                 Traceback (most recent call last)",
      "\u001B[0;32m/var/folders/vs/c0nlrqgj7w31_21lr5lnfrf40000gn/T/ipykernel_67959/1210441953.py\u001B[0m in \u001B[0;36m<module>\u001B[0;34m\u001B[0m\n\u001B[0;32m----> 1\u001B[0;31m \u001B[0mpd\u001B[0m\u001B[0;34m.\u001B[0m\u001B[0mread_sql\u001B[0m\u001B[0;34m(\u001B[0m\u001B[0;34m'SELECT * FROM employees LIMIT 5 OFFSET 50'\u001B[0m\u001B[0;34m)\u001B[0m\u001B[0;34m\u001B[0m\u001B[0;34m\u001B[0m\u001B[0m\n\u001B[0m",
      "\u001B[0;31mTypeError\u001B[0m: read_sql() missing 1 required positional argument: 'con'"
     ]
    }
   ],
   "source": [
    "pd.read_sql('SELECT * FROM employees LIMIT 5 OFFSET 50')"
   ],
   "metadata": {
    "collapsed": false
   }
  },
  {
   "cell_type": "code",
   "execution_count": 16,
   "outputs": [],
   "source": [
    "import mysql.connector as connection\n",
    "import pandas as pd\n"
   ],
   "metadata": {
    "collapsed": false
   }
  },
  {
   "cell_type": "code",
   "execution_count": 18,
   "outputs": [],
   "source": [
    "import sqlalchemy as db\n"
   ],
   "metadata": {
    "collapsed": false
   }
  },
  {
   "cell_type": "code",
   "execution_count": 20,
   "outputs": [],
   "source": [
    "from sqlalchemy import create_engine\n"
   ],
   "metadata": {
    "collapsed": false
   }
  },
  {
   "cell_type": "code",
   "execution_count": 25,
   "outputs": [
    {
     "data": {
      "text/plain": "   emp_no  birth_date first_name  last_name gender   hire_date\n0   10051  1953-07-28   Hidefumi      Caine      M  1992-10-15\n1   10052  1961-02-26     Heping     Nitsch      M  1988-05-21\n2   10053  1954-09-13     Sanjiv   Zschoche      F  1986-02-04\n3   10054  1957-04-04     Mayumi  Schueller      M  1995-03-13\n4   10055  1956-06-06     Georgy     Dredge      M  1992-04-27",
      "text/html": "<div>\n<style scoped>\n    .dataframe tbody tr th:only-of-type {\n        vertical-align: middle;\n    }\n\n    .dataframe tbody tr th {\n        vertical-align: top;\n    }\n\n    .dataframe thead th {\n        text-align: right;\n    }\n</style>\n<table border=\"1\" class=\"dataframe\">\n  <thead>\n    <tr style=\"text-align: right;\">\n      <th></th>\n      <th>emp_no</th>\n      <th>birth_date</th>\n      <th>first_name</th>\n      <th>last_name</th>\n      <th>gender</th>\n      <th>hire_date</th>\n    </tr>\n  </thead>\n  <tbody>\n    <tr>\n      <th>0</th>\n      <td>10051</td>\n      <td>1953-07-28</td>\n      <td>Hidefumi</td>\n      <td>Caine</td>\n      <td>M</td>\n      <td>1992-10-15</td>\n    </tr>\n    <tr>\n      <th>1</th>\n      <td>10052</td>\n      <td>1961-02-26</td>\n      <td>Heping</td>\n      <td>Nitsch</td>\n      <td>M</td>\n      <td>1988-05-21</td>\n    </tr>\n    <tr>\n      <th>2</th>\n      <td>10053</td>\n      <td>1954-09-13</td>\n      <td>Sanjiv</td>\n      <td>Zschoche</td>\n      <td>F</td>\n      <td>1986-02-04</td>\n    </tr>\n    <tr>\n      <th>3</th>\n      <td>10054</td>\n      <td>1957-04-04</td>\n      <td>Mayumi</td>\n      <td>Schueller</td>\n      <td>M</td>\n      <td>1995-03-13</td>\n    </tr>\n    <tr>\n      <th>4</th>\n      <td>10055</td>\n      <td>1956-06-06</td>\n      <td>Georgy</td>\n      <td>Dredge</td>\n      <td>M</td>\n      <td>1992-04-27</td>\n    </tr>\n  </tbody>\n</table>\n</div>"
     },
     "execution_count": 25,
     "metadata": {},
     "output_type": "execute_result"
    }
   ],
   "source": [
    "pd.read_sql('SELECT * FROM employees LIMIT 5 OFFSET 50', db_con)"
   ],
   "metadata": {
    "collapsed": false
   }
  },
  {
   "cell_type": "code",
   "execution_count": 28,
   "outputs": [
    {
     "data": {
      "text/plain": "   emp_no first_name  last_name\n0   10002    Bezalel     Simmel\n1   10006     Anneke    Preusig\n2   10007    Tzvetan  Zielinski\n3   10009     Sumant       Peac\n4   10010  Duangkaew   Piveteau",
      "text/html": "<div>\n<style scoped>\n    .dataframe tbody tr th:only-of-type {\n        vertical-align: middle;\n    }\n\n    .dataframe tbody tr th {\n        vertical-align: top;\n    }\n\n    .dataframe thead th {\n        text-align: right;\n    }\n</style>\n<table border=\"1\" class=\"dataframe\">\n  <thead>\n    <tr style=\"text-align: right;\">\n      <th></th>\n      <th>emp_no</th>\n      <th>first_name</th>\n      <th>last_name</th>\n    </tr>\n  </thead>\n  <tbody>\n    <tr>\n      <th>0</th>\n      <td>10002</td>\n      <td>Bezalel</td>\n      <td>Simmel</td>\n    </tr>\n    <tr>\n      <th>1</th>\n      <td>10006</td>\n      <td>Anneke</td>\n      <td>Preusig</td>\n    </tr>\n    <tr>\n      <th>2</th>\n      <td>10007</td>\n      <td>Tzvetan</td>\n      <td>Zielinski</td>\n    </tr>\n    <tr>\n      <th>3</th>\n      <td>10009</td>\n      <td>Sumant</td>\n      <td>Peac</td>\n    </tr>\n    <tr>\n      <th>4</th>\n      <td>10010</td>\n      <td>Duangkaew</td>\n      <td>Piveteau</td>\n    </tr>\n  </tbody>\n</table>\n</div>"
     },
     "execution_count": 28,
     "metadata": {},
     "output_type": "execute_result"
    }
   ],
   "source": [
    "sql = '''\n",
    "SELECT\n",
    "    emp_no,\n",
    "    first_name,\n",
    "    last_name\n",
    "FROM employees\n",
    "WHERE gender = 'F'\n",
    "LIMIT 100\n",
    "'''\n",
    "\n",
    "employees = pd.read_sql(sql, url)\n",
    "employees.head()"
   ],
   "metadata": {
    "collapsed": false
   }
  },
  {
   "cell_type": "code",
   "execution_count": null,
   "outputs": [],
   "source": [],
   "metadata": {
    "collapsed": false
   }
  }
 ],
 "metadata": {
  "kernelspec": {
   "display_name": "Python 3",
   "language": "python",
   "name": "python3"
  },
  "language_info": {
   "codemirror_mode": {
    "name": "ipython",
    "version": 2
   },
   "file_extension": ".py",
   "mimetype": "text/x-python",
   "name": "python",
   "nbconvert_exporter": "python",
   "pygments_lexer": "ipython2",
   "version": "2.7.6"
  }
 },
 "nbformat": 4,
 "nbformat_minor": 0
}
