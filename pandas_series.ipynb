{
 "cells": [
  {
   "cell_type": "code",
   "execution_count": 1,
   "metadata": {
    "collapsed": true
   },
   "outputs": [],
   "source": [
    "import numpy as np\n",
    "import pandas as pd\n",
    "import matplotlib.pyplot as plt"
   ]
  },
  {
   "cell_type": "code",
   "execution_count": 3,
   "outputs": [],
   "source": [
    "fruits = pd.Series([\"kiwi\", \"mango\", \"strawberry\", \"pineapple\", \"gala apple\", \"honeycrisp apple\", \"tomato\", \"watermelon\", \"honeydew\", \"kiwi\", \"kiwi\", \"kiwi\", \"mango\", \"blueberry\", \"blackberry\", \"gooseberry\", \"papaya\"])\n",
    "# Pandas to Determine the number of elements in fruits."
   ],
   "metadata": {
    "collapsed": false
   }
  },
  {
   "cell_type": "code",
   "execution_count": 4,
   "outputs": [
    {
     "data": {
      "text/plain": "17"
     },
     "execution_count": 4,
     "metadata": {},
     "output_type": "execute_result"
    }
   ],
   "source": [
    "\n",
    "fruits.size"
   ],
   "metadata": {
    "collapsed": false
   }
  },
  {
   "cell_type": "code",
   "execution_count": 5,
   "outputs": [
    {
     "data": {
      "text/plain": "RangeIndex(start=0, stop=17, step=1)"
     },
     "execution_count": 5,
     "metadata": {},
     "output_type": "execute_result"
    }
   ],
   "source": [
    "fruits.index\n",
    "\n"
   ],
   "metadata": {
    "collapsed": false
   }
  },
  {
   "cell_type": "code",
   "execution_count": 7,
   "outputs": [
    {
     "data": {
      "text/plain": "0                                KIWI\n1                               MANGO\n2                          STRAWBERRY\n3                           PINEAPPLE\n4                          GALA APPLE\n5                    HONEYCRISP APPLE\n6                              TOMATO\n7                          WATERMELON\n8                            HONEYDEW\n9                                KIWI\n10                               KIWI\n11                               KIWI\n12                              MANGO\n13                          BLUEBERRY\n14                         BLACKBERRY\n15                         GOOSEBERRY\n16                             PAPAYA\nuppercased_fruits                 NaN\ndtype: object"
     },
     "execution_count": 7,
     "metadata": {},
     "output_type": "execute_result"
    }
   ],
   "source": [
    "\n",
    "fruits.str.upper()"
   ],
   "metadata": {
    "collapsed": false
   }
  },
  {
   "cell_type": "code",
   "execution_count": 8,
   "outputs": [
    {
     "data": {
      "text/plain": "0                                                                 kiwi\n1                                                                mango\n2                                                           strawberry\n3                                                            pineapple\n4                                                           gala apple\n5                                                     honeycrisp apple\n6                                                               tomato\n7                                                           watermelon\n8                                                             honeydew\n9                                                                 kiwi\n10                                                                kiwi\n11                                                                kiwi\n12                                                               mango\n13                                                           blueberry\n14                                                          blackberry\n15                                                          gooseberry\n16                                                              papaya\nuppercased_fruits    0                 KIWI\n1                MANGO\n...\ndtype: object"
     },
     "execution_count": 8,
     "metadata": {},
     "output_type": "execute_result"
    }
   ],
   "source": [
    "fruits"
   ],
   "metadata": {
    "collapsed": false
   }
  },
  {
   "cell_type": "code",
   "execution_count": 10,
   "outputs": [],
   "source": [
    "uppercased_fruits = fruits.str.upper()"
   ],
   "metadata": {
    "collapsed": false
   }
  },
  {
   "cell_type": "code",
   "execution_count": 11,
   "outputs": [
    {
     "data": {
      "text/plain": "0                                KIWI\n1                               MANGO\n2                          STRAWBERRY\n3                           PINEAPPLE\n4                          GALA APPLE\n5                    HONEYCRISP APPLE\n6                              TOMATO\n7                          WATERMELON\n8                            HONEYDEW\n9                                KIWI\n10                               KIWI\n11                               KIWI\n12                              MANGO\n13                          BLUEBERRY\n14                         BLACKBERRY\n15                         GOOSEBERRY\n16                             PAPAYA\nuppercased_fruits                 NaN\ndtype: object"
     },
     "execution_count": 11,
     "metadata": {},
     "output_type": "execute_result"
    }
   ],
   "source": [
    "uppercased_fruits"
   ],
   "metadata": {
    "collapsed": false
   }
  },
  {
   "cell_type": "code",
   "execution_count": 12,
   "outputs": [],
   "source": [
    "capitalized_fruits = fruits.str.capitalize()"
   ],
   "metadata": {
    "collapsed": false
   }
  },
  {
   "cell_type": "code",
   "execution_count": 13,
   "outputs": [
    {
     "data": {
      "text/plain": "0                                Kiwi\n1                               Mango\n2                          Strawberry\n3                           Pineapple\n4                          Gala apple\n5                    Honeycrisp apple\n6                              Tomato\n7                          Watermelon\n8                            Honeydew\n9                                Kiwi\n10                               Kiwi\n11                               Kiwi\n12                              Mango\n13                          Blueberry\n14                         Blackberry\n15                         Gooseberry\n16                             Papaya\nuppercased_fruits                 NaN\ndtype: object"
     },
     "execution_count": 13,
     "metadata": {},
     "output_type": "execute_result"
    }
   ],
   "source": [
    "capitalized_fruits"
   ],
   "metadata": {
    "collapsed": false
   }
  },
  {
   "cell_type": "code",
   "execution_count": null,
   "outputs": [],
   "source": [],
   "metadata": {
    "collapsed": false
   }
  }
 ],
 "metadata": {
  "kernelspec": {
   "display_name": "Python 3",
   "language": "python",
   "name": "python3"
  },
  "language_info": {
   "codemirror_mode": {
    "name": "ipython",
    "version": 2
   },
   "file_extension": ".py",
   "mimetype": "text/x-python",
   "name": "python",
   "nbconvert_exporter": "python",
   "pygments_lexer": "ipython2",
   "version": "2.7.6"
  }
 },
 "nbformat": 4,
 "nbformat_minor": 0
}
